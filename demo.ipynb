{
 "cells": [
  {
   "cell_type": "markdown",
   "metadata": {},
   "source": [
    "# Durable Rules Magic and Utilities\n",
    "\n",
    "The [durable.rules](https://github.com/jruizgit/rules/) Python package provides a powerful rule based system that allows uses to create rule sets, assert facts and events, and reason on from those assertions according to the rules.\n",
    "\n",
    "For use as a simple demonstrator in an educational context, the syntax and workflow are rather complex.\n",
    "\n",
    "The intention behind the [`durable_rules_tools`](https://github.com/innovationOUtside/durable_rules_magic) package is to provide a range of utilities and simple IPython magic support for demonstrating the use of rule based systems in a Jupyter notebook in simple contexts, specifically ones based around \"subject, predicate, object\" triple style reasoning.\n",
    "\n",
    "The approach taken may not scale for working with complex rulesets, or even in the general case. That said, the simplifications may provide a useful on-ramp for getting started using the package before moving on to using it directly."
   ]
  },
  {
   "cell_type": "markdown",
   "metadata": {},
   "source": [
    "## Defining Rulesets and Assertions\n",
    "\n",
    "In the first instance, we need to define a set of rules against we can then then assert persistent facts and ephemeral events."
   ]
  },
  {
   "cell_type": "code",
   "execution_count": 1,
   "metadata": {},
   "outputs": [],
   "source": [
    "from durable.lang import ruleset, delete_state, when_all, assert_fact, retract_fact, post, c, m"
   ]
  },
  {
   "cell_type": "markdown",
   "metadata": {},
   "source": [
    "The `durable.rules` README provides the following example of a ruleset and a series of assertions:"
   ]
  },
  {
   "cell_type": "code",
   "execution_count": 2,
   "metadata": {},
   "outputs": [
    {
     "name": "stdout",
     "output_type": "stream",
     "text": [
      "Fact: Kermit eats flies\n",
      "Fact: Kermit is green\n",
      "Fact: Kermit is frog\n",
      "Fact: Kermit lives water\n",
      "Fact: Greedy eats flies\n",
      "Fact: Greedy is grey\n",
      "Fact: Greedy is chameleon\n",
      "Fact: Greedy lives land\n",
      "Fact: Tweety is black\n",
      "Fact: Tweety is bird\n",
      "Fact: Tweety eats worms\n"
     ]
    }
   ],
   "source": [
    "with ruleset('animal'):\n",
    "    @when_all(c.first << (m.predicate == 'eats') & (m.object == 'flies'),\n",
    "              (m.predicate == 'lives') & (m.object == 'water') & (m.subject == c.first.subject))\n",
    "    def frog(c):\n",
    "        c.assert_fact({ 'subject': c.first.subject, 'predicate': 'is', 'object': 'frog' })\n",
    "\n",
    "    @when_all(c.first << (m.predicate == 'eats') & (m.object == 'flies'),\n",
    "              (m.predicate == 'lives') & (m.object == 'land') & (m.subject == c.first.subject))\n",
    "    def chameleon(c):\n",
    "        c.assert_fact({ 'subject': c.first.subject, 'predicate': 'is', 'object': 'chameleon' })\n",
    "\n",
    "    @when_all((m.predicate == 'eats') & (m.object == 'worms'))\n",
    "    def bird(c):\n",
    "        c.assert_fact({ 'subject': c.m.subject, 'predicate': 'is', 'object': 'bird' })\n",
    "\n",
    "    @when_all((m.predicate == 'is') & (m.object == 'frog'))\n",
    "    def green(c):\n",
    "        c.assert_fact({ 'subject': c.m.subject, 'predicate': 'is', 'object': 'green' })\n",
    "\n",
    "    @when_all((m.predicate == 'is') & (m.object == 'chameleon'))\n",
    "    def grey(c):\n",
    "        c.assert_fact({ 'subject': c.m.subject, 'predicate': 'is', 'object': 'grey' })\n",
    "\n",
    "    @when_all((m.predicate == 'is') & (m.object == 'bird'))\n",
    "    def black(c):\n",
    "        c.assert_fact({ 'subject': c.m.subject, 'predicate': 'is', 'object': 'black' })\n",
    "\n",
    "    @when_all(+m.subject)\n",
    "    def output(c):\n",
    "        print('Fact: {0} {1} {2}'.format(c.m.subject, c.m.predicate, c.m.object))\n",
    "\n",
    "\n",
    "assert_fact('animal', { 'subject': 'Kermit', 'predicate': 'eats', 'object': 'flies' })\n",
    "assert_fact('animal', { 'subject': 'Kermit', 'predicate': 'lives', 'object': 'water' })\n",
    "assert_fact('animal', { 'subject': 'Greedy', 'predicate': 'eats', 'object': 'flies' })\n",
    "assert_fact('animal', { 'subject': 'Greedy', 'predicate': 'lives', 'object': 'land' })\n",
    "assert_fact('animal', { 'subject': 'Tweety', 'predicate': 'eats', 'object': 'worms' });  "
   ]
  },
  {
   "cell_type": "markdown",
   "metadata": {},
   "source": [
    "The rule syntax is visually complex, with decorators, logical tests and `dict` definitions including large amounts of boilerplate text.\n",
    "\n",
    "If you duplicate an assertion, an error will be raised:"
   ]
  },
  {
   "cell_type": "code",
   "execution_count": 3,
   "metadata": {},
   "outputs": [
    {
     "ename": "MessageObservedException",
     "evalue": "{'subject': 'Tweety', 'predicate': 'eats', 'object': 'worms'}",
     "output_type": "error",
     "traceback": [
      "\u001b[0;31m---------------------------------------------------------------------------\u001b[0m",
      "\u001b[0;31mMessageObservedException\u001b[0m                  Traceback (most recent call last)",
      "\u001b[0;32m<ipython-input-3-3e2f3f512a9a>\u001b[0m in \u001b[0;36m<module>\u001b[0;34m\u001b[0m\n\u001b[0;32m----> 1\u001b[0;31m \u001b[0massert_fact\u001b[0m\u001b[0;34m(\u001b[0m\u001b[0;34m'animal'\u001b[0m\u001b[0;34m,\u001b[0m \u001b[0;34m{\u001b[0m \u001b[0;34m'subject'\u001b[0m\u001b[0;34m:\u001b[0m \u001b[0;34m'Tweety'\u001b[0m\u001b[0;34m,\u001b[0m \u001b[0;34m'predicate'\u001b[0m\u001b[0;34m:\u001b[0m \u001b[0;34m'eats'\u001b[0m\u001b[0;34m,\u001b[0m \u001b[0;34m'object'\u001b[0m\u001b[0;34m:\u001b[0m \u001b[0;34m'worms'\u001b[0m \u001b[0;34m}\u001b[0m\u001b[0;34m)\u001b[0m\u001b[0;34m;\u001b[0m\u001b[0;34m\u001b[0m\u001b[0;34m\u001b[0m\u001b[0m\n\u001b[0m",
      "\u001b[0;32m/usr/local/lib/python3.7/site-packages/durable/lang.py\u001b[0m in \u001b[0;36massert_fact\u001b[0;34m(ruleset_name, fact, complete)\u001b[0m\n\u001b[1;32m    670\u001b[0m \u001b[0;34m\u001b[0m\u001b[0m\n\u001b[1;32m    671\u001b[0m \u001b[0;32mdef\u001b[0m \u001b[0massert_fact\u001b[0m\u001b[0;34m(\u001b[0m\u001b[0mruleset_name\u001b[0m\u001b[0;34m,\u001b[0m \u001b[0mfact\u001b[0m\u001b[0;34m,\u001b[0m \u001b[0mcomplete\u001b[0m \u001b[0;34m=\u001b[0m \u001b[0;32mNone\u001b[0m\u001b[0;34m)\u001b[0m\u001b[0;34m:\u001b[0m\u001b[0;34m\u001b[0m\u001b[0;34m\u001b[0m\u001b[0m\n\u001b[0;32m--> 672\u001b[0;31m     \u001b[0;32mreturn\u001b[0m \u001b[0mget_host\u001b[0m\u001b[0;34m(\u001b[0m\u001b[0;34m)\u001b[0m\u001b[0;34m.\u001b[0m\u001b[0massert_fact\u001b[0m\u001b[0;34m(\u001b[0m\u001b[0mruleset_name\u001b[0m\u001b[0;34m,\u001b[0m \u001b[0mfact\u001b[0m\u001b[0;34m,\u001b[0m \u001b[0mcomplete\u001b[0m\u001b[0;34m)\u001b[0m\u001b[0;34m\u001b[0m\u001b[0;34m\u001b[0m\u001b[0m\n\u001b[0m\u001b[1;32m    673\u001b[0m \u001b[0;34m\u001b[0m\u001b[0m\n\u001b[1;32m    674\u001b[0m \u001b[0;32mdef\u001b[0m \u001b[0massert_facts\u001b[0m\u001b[0;34m(\u001b[0m\u001b[0mruleset_name\u001b[0m\u001b[0;34m,\u001b[0m \u001b[0mfacts\u001b[0m\u001b[0;34m,\u001b[0m \u001b[0mcomplete\u001b[0m \u001b[0;34m=\u001b[0m \u001b[0;32mNone\u001b[0m\u001b[0;34m)\u001b[0m\u001b[0;34m:\u001b[0m\u001b[0;34m\u001b[0m\u001b[0;34m\u001b[0m\u001b[0m\n",
      "\u001b[0;32m/usr/local/lib/python3.7/site-packages/durable/engine.py\u001b[0m in \u001b[0;36massert_fact\u001b[0;34m(self, ruleset_name, fact, complete)\u001b[0m\n\u001b[1;32m    795\u001b[0m \u001b[0;34m\u001b[0m\u001b[0m\n\u001b[1;32m    796\u001b[0m         \u001b[0mrules\u001b[0m \u001b[0;34m=\u001b[0m \u001b[0mself\u001b[0m\u001b[0;34m.\u001b[0m\u001b[0mget_ruleset\u001b[0m\u001b[0;34m(\u001b[0m\u001b[0mruleset_name\u001b[0m\u001b[0;34m)\u001b[0m\u001b[0;34m\u001b[0m\u001b[0;34m\u001b[0m\u001b[0m\n\u001b[0;32m--> 797\u001b[0;31m         \u001b[0;32mreturn\u001b[0m \u001b[0mself\u001b[0m\u001b[0;34m.\u001b[0m\u001b[0m_handle_function\u001b[0m\u001b[0;34m(\u001b[0m\u001b[0mrules\u001b[0m\u001b[0;34m,\u001b[0m \u001b[0mrules\u001b[0m\u001b[0;34m.\u001b[0m\u001b[0massert_fact\u001b[0m\u001b[0;34m,\u001b[0m \u001b[0mfact\u001b[0m\u001b[0;34m,\u001b[0m \u001b[0mcomplete\u001b[0m\u001b[0;34m)\u001b[0m\u001b[0;34m\u001b[0m\u001b[0;34m\u001b[0m\u001b[0m\n\u001b[0m\u001b[1;32m    798\u001b[0m \u001b[0;34m\u001b[0m\u001b[0m\n\u001b[1;32m    799\u001b[0m     \u001b[0;32mdef\u001b[0m \u001b[0massert_facts\u001b[0m\u001b[0;34m(\u001b[0m\u001b[0mself\u001b[0m\u001b[0;34m,\u001b[0m \u001b[0mruleset_name\u001b[0m\u001b[0;34m,\u001b[0m \u001b[0mfacts\u001b[0m\u001b[0;34m,\u001b[0m \u001b[0mcomplete\u001b[0m \u001b[0;34m=\u001b[0m \u001b[0;32mNone\u001b[0m\u001b[0;34m)\u001b[0m\u001b[0;34m:\u001b[0m\u001b[0;34m\u001b[0m\u001b[0;34m\u001b[0m\u001b[0m\n",
      "\u001b[0;32m/usr/local/lib/python3.7/site-packages/durable/engine.py\u001b[0m in \u001b[0;36m_handle_function\u001b[0;34m(self, rules, func, args, complete)\u001b[0m\n\u001b[1;32m    768\u001b[0m \u001b[0;34m\u001b[0m\u001b[0m\n\u001b[1;32m    769\u001b[0m         \u001b[0;32mif\u001b[0m \u001b[0;32mnot\u001b[0m \u001b[0mcomplete\u001b[0m\u001b[0;34m:\u001b[0m\u001b[0;34m\u001b[0m\u001b[0;34m\u001b[0m\u001b[0m\n\u001b[0;32m--> 770\u001b[0;31m             \u001b[0mrules\u001b[0m\u001b[0;34m.\u001b[0m\u001b[0mdo_actions\u001b[0m\u001b[0;34m(\u001b[0m\u001b[0mfunc\u001b[0m\u001b[0;34m(\u001b[0m\u001b[0margs\u001b[0m\u001b[0;34m)\u001b[0m\u001b[0;34m,\u001b[0m \u001b[0mcallback\u001b[0m\u001b[0;34m)\u001b[0m\u001b[0;34m\u001b[0m\u001b[0;34m\u001b[0m\u001b[0m\n\u001b[0m\u001b[1;32m    771\u001b[0m             \u001b[0;32mif\u001b[0m \u001b[0merror\u001b[0m\u001b[0;34m[\u001b[0m\u001b[0;36m0\u001b[0m\u001b[0;34m]\u001b[0m\u001b[0;34m:\u001b[0m\u001b[0;34m\u001b[0m\u001b[0;34m\u001b[0m\u001b[0m\n\u001b[1;32m    772\u001b[0m                 \u001b[0;32mraise\u001b[0m \u001b[0merror\u001b[0m\u001b[0;34m[\u001b[0m\u001b[0;36m0\u001b[0m\u001b[0;34m]\u001b[0m\u001b[0;34m\u001b[0m\u001b[0;34m\u001b[0m\u001b[0m\n",
      "\u001b[0;32m/usr/local/lib/python3.7/site-packages/durable/engine.py\u001b[0m in \u001b[0;36massert_fact\u001b[0;34m(self, fact)\u001b[0m\n\u001b[1;32m    333\u001b[0m \u001b[0;34m\u001b[0m\u001b[0m\n\u001b[1;32m    334\u001b[0m     \u001b[0;32mdef\u001b[0m \u001b[0massert_fact\u001b[0m\u001b[0;34m(\u001b[0m\u001b[0mself\u001b[0m\u001b[0;34m,\u001b[0m \u001b[0mfact\u001b[0m\u001b[0;34m)\u001b[0m\u001b[0;34m:\u001b[0m\u001b[0;34m\u001b[0m\u001b[0;34m\u001b[0m\u001b[0m\n\u001b[0;32m--> 335\u001b[0;31m         \u001b[0;32mreturn\u001b[0m \u001b[0mself\u001b[0m\u001b[0;34m.\u001b[0m\u001b[0m_handle_result\u001b[0m\u001b[0;34m(\u001b[0m\u001b[0mdurable_rules_engine\u001b[0m\u001b[0;34m.\u001b[0m\u001b[0massert_fact\u001b[0m\u001b[0;34m(\u001b[0m\u001b[0mself\u001b[0m\u001b[0;34m.\u001b[0m\u001b[0m_handle\u001b[0m\u001b[0;34m,\u001b[0m \u001b[0mjson\u001b[0m\u001b[0;34m.\u001b[0m\u001b[0mdumps\u001b[0m\u001b[0;34m(\u001b[0m\u001b[0mfact\u001b[0m\u001b[0;34m,\u001b[0m \u001b[0mensure_ascii\u001b[0m\u001b[0;34m=\u001b[0m\u001b[0;32mFalse\u001b[0m\u001b[0;34m)\u001b[0m\u001b[0;34m)\u001b[0m\u001b[0;34m,\u001b[0m \u001b[0mfact\u001b[0m\u001b[0;34m)\u001b[0m\u001b[0;34m\u001b[0m\u001b[0;34m\u001b[0m\u001b[0m\n\u001b[0m\u001b[1;32m    336\u001b[0m \u001b[0;34m\u001b[0m\u001b[0m\n\u001b[1;32m    337\u001b[0m     \u001b[0;32mdef\u001b[0m \u001b[0massert_facts\u001b[0m\u001b[0;34m(\u001b[0m\u001b[0mself\u001b[0m\u001b[0;34m,\u001b[0m \u001b[0mfacts\u001b[0m\u001b[0;34m)\u001b[0m\u001b[0;34m:\u001b[0m\u001b[0;34m\u001b[0m\u001b[0;34m\u001b[0m\u001b[0m\n",
      "\u001b[0;32m/usr/local/lib/python3.7/site-packages/durable/engine.py\u001b[0m in \u001b[0;36m_handle_result\u001b[0;34m(self, result, message)\u001b[0m\n\u001b[1;32m    320\u001b[0m             \u001b[0;32mraise\u001b[0m \u001b[0mMessageNotHandledException\u001b[0m\u001b[0;34m(\u001b[0m\u001b[0mmessage\u001b[0m\u001b[0;34m)\u001b[0m\u001b[0;34m\u001b[0m\u001b[0;34m\u001b[0m\u001b[0m\n\u001b[1;32m    321\u001b[0m         \u001b[0;32melif\u001b[0m \u001b[0mresult\u001b[0m\u001b[0;34m[\u001b[0m\u001b[0;36m0\u001b[0m\u001b[0;34m]\u001b[0m \u001b[0;34m==\u001b[0m \u001b[0;36m2\u001b[0m\u001b[0;34m:\u001b[0m\u001b[0;34m\u001b[0m\u001b[0;34m\u001b[0m\u001b[0m\n\u001b[0;32m--> 322\u001b[0;31m             \u001b[0;32mraise\u001b[0m \u001b[0mMessageObservedException\u001b[0m\u001b[0;34m(\u001b[0m\u001b[0mmessage\u001b[0m\u001b[0;34m)\u001b[0m\u001b[0;34m\u001b[0m\u001b[0;34m\u001b[0m\u001b[0m\n\u001b[0m\u001b[1;32m    323\u001b[0m         \u001b[0;32melif\u001b[0m \u001b[0mresult\u001b[0m\u001b[0;34m[\u001b[0m\u001b[0;36m0\u001b[0m\u001b[0;34m]\u001b[0m \u001b[0;34m==\u001b[0m \u001b[0;36m3\u001b[0m\u001b[0;34m:\u001b[0m\u001b[0;34m\u001b[0m\u001b[0;34m\u001b[0m\u001b[0m\n\u001b[1;32m    324\u001b[0m             \u001b[0;32mreturn\u001b[0m \u001b[0;36m0\u001b[0m\u001b[0;34m\u001b[0m\u001b[0;34m\u001b[0m\u001b[0m\n",
      "\u001b[0;31mMessageObservedException\u001b[0m: {'subject': 'Tweety', 'predicate': 'eats', 'object': 'worms'}"
     ]
    }
   ],
   "source": [
    "assert_fact('animal', { 'subject': 'Tweety', 'predicate': 'eats', 'object': 'worms' });  "
   ]
  },
  {
   "cell_type": "markdown",
   "metadata": {},
   "source": [
    "Facts that have been asserted can be retracted, which means they can then be reasserted:"
   ]
  },
  {
   "cell_type": "code",
   "execution_count": 4,
   "metadata": {},
   "outputs": [
    {
     "name": "stdout",
     "output_type": "stream",
     "text": [
      "Fact: Tweety eats worms\n"
     ]
    }
   ],
   "source": [
    "retract_fact('animal', { 'subject': 'Tweety', 'predicate': 'eats', 'object': 'worms' })\n",
    "assert_fact('animal', { 'subject': 'Tweety', 'predicate': 'eats', 'object': 'worms' });\n",
    "# If an error has been logged, a log object is returned; the \";\" suppresses it's display."
   ]
  },
  {
   "cell_type": "markdown",
   "metadata": {},
   "source": [
    "We can reset the state associated with a ruleset by deleting the current state over it:"
   ]
  },
  {
   "cell_type": "code",
   "execution_count": 5,
   "metadata": {},
   "outputs": [],
   "source": [
    "delete_state('animal', None)"
   ]
  },
  {
   "cell_type": "markdown",
   "metadata": {},
   "source": [
    "We now have a clean state to work with:"
   ]
  },
  {
   "cell_type": "code",
   "execution_count": 6,
   "metadata": {},
   "outputs": [
    {
     "name": "stdout",
     "output_type": "stream",
     "text": [
      "Fact: Tweety is black\n",
      "Fact: Tweety is bird\n",
      "Fact: Tweety eats worms\n"
     ]
    }
   ],
   "source": [
    "assert_fact('animal', { 'subject': 'Tweety', 'predicate': 'eats', 'object': 'worms' });  "
   ]
  },
  {
   "cell_type": "markdown",
   "metadata": {},
   "source": [
    "Unlike facts, which are persistent once asserted and until retracted, events are ephemeral; once an event has been processed, its original assertion is retracted:"
   ]
  },
  {
   "cell_type": "code",
   "execution_count": 7,
   "metadata": {},
   "outputs": [
    {
     "name": "stdout",
     "output_type": "stream",
     "text": [
      "Fact: Felix eats birds\n",
      "Fact: Felix eats birds\n"
     ]
    },
    {
     "data": {
      "text/plain": [
       "{'sid': '0', 'id': 'sid-0', '$s': 1}"
      ]
     },
     "execution_count": 7,
     "metadata": {},
     "output_type": "execute_result"
    }
   ],
   "source": [
    "post('animal', { 'subject': 'Felix', 'predicate': 'eats', 'object': 'birds' })\n",
    "post('animal', { 'subject': 'Felix', 'predicate': 'eats', 'object': 'birds' })"
   ]
  },
  {
   "cell_type": "markdown",
   "metadata": {},
   "source": [
    "(Facts that are asserted then retracted are possible in the form of event assertions.)\n",
    "\n",
    "If you rerun the ruleset definition cell, a different sort of error will be raised, in the form of an `Exception: Ruleset with name animal already registered`. Within a Pyhton environment, only a single instance of a ruleset with a particular name is allowed, although many rulesets with unique names are supported."
   ]
  },
  {
   "cell_type": "markdown",
   "metadata": {},
   "source": [
    "### Simplifying Ruleset Definitions\n",
    "\n",
    "Several helper functions are provided in `durable_rules_tools.rules_utils` for defining rulesets in a robust way (in educational settings, we often need to be as defensive as possible)."
   ]
  },
  {
   "cell_type": "code",
   "execution_count": 8,
   "metadata": {},
   "outputs": [],
   "source": [
    "from durable_rules_tools.rules_utils import new_ruleset, SPO, Subject, Set"
   ]
  },
  {
   "cell_type": "markdown",
   "metadata": {},
   "source": [
    "The `new_ruleset()` function creates a new, unique ruleset name that significantly minimiseds ruleset name. Making it easy to create new, unique names simplifies the use of such names.\n",
    "\n",
    "To simplify tests against particular predicate and object settings, such as  `(m.predicate == 'eats') & (m.object == 'worms')`, we can instead test against `subject_('eats', 'worms')` (corresponding `object_(subj, pred)` and `predicate_(subj, obj)` tests are also defined)."
   ]
  },
  {
   "cell_type": "markdown",
   "metadata": {},
   "source": [
    "We can also define simplifications on an *ad hoc* basis. For example, if we want to repeatedly test for a particular object value and that it described using an `is` predicate:"
   ]
  },
  {
   "cell_type": "code",
   "execution_count": 9,
   "metadata": {},
   "outputs": [],
   "source": [
    "def _when_is(obj):\n",
    "    \"\"\"Test a specified object value is set against an 'is' predicate.\"\"\"\n",
    "    return (m.predicate == 'is') & (m.object == obj)\n",
    "\n",
    "#That could be simplified further as: return subject_('is', obj)"
   ]
  },
  {
   "cell_type": "markdown",
   "metadata": {},
   "source": [
    "When asserting facts, the function `SPO(subj, obj, pred)` allows us to replace statements of the form:\n",
    "\n",
    "```python\n",
    "{ 'subject': c.m.subject, 'predicate': 'is', 'object': 'bird' }\n",
    "```\n",
    "\n",
    "with statements of the form:\n",
    "\n",
    "```python\n",
    "SPO(c, 'is', 'bird)\n",
    "```\n",
    "\n",
    "where position is used to assume `c.m.subject`, `c.m.predicate` and `c.m.object` values where a string value is not passed.\n",
    "\n",
    "As a further simplification, when asserting a fact in a rule body, eg as `c.assert_fact(SPO(c, 'can', 'fly'))`, we can rewrite it more simply as `Set(c, '? : can : fly' )`.\n",
    "\n",
    "The previous ruleset now becomes:"
   ]
  },
  {
   "cell_type": "code",
   "execution_count": 10,
   "metadata": {},
   "outputs": [],
   "source": [
    "RULESET = new_ruleset()\n",
    "with ruleset(RULESET):\n",
    "    @when_all(c.first << Subject('eats', 'flies'),\n",
    "              Subject('lives', 'water') & (m.subject == c.first.subject))\n",
    "    def frog(c):\n",
    "        c.assert_fact(SPO(c.first.subject, 'is', 'frog'))\n",
    "\n",
    "    @when_all(c.first << Subject('eats', 'flies'),\n",
    "              Subject('lives', 'land') & (m.subject == c.first.subject))\n",
    "    def chameleon(c):\n",
    "        c.assert_fact(SPO(c.first.subject, 'is', 'chameleon'))\n",
    "\n",
    "    @when_all(Subject('eats', 'worms'))\n",
    "    def bird(c):\n",
    "        Set(c, '? : is : bird')\n",
    "\n",
    "    @when_all(Subject('is', 'frog'))\n",
    "    def green(c):\n",
    "        Set(c, '? : is : green')\n",
    "\n",
    "    @when_all(Subject('is', 'chameleon'))\n",
    "    def grey(c):\n",
    "        Set(c, '? : is : grey')\n",
    "\n",
    "    @when_all(Subject('is', 'bird'))\n",
    "    def black(c):\n",
    "        Set(c, '? :is : black')\n",
    "        \n",
    "    @when_all(Subject(\"is\", \"bird\"))\n",
    "    def can_fly(c):\n",
    "        Set(c, '? : can : fly' )\n",
    "\n",
    "    @when_all(+m.subject)\n",
    "    def output(c):\n",
    "        print('Fact: {0} {1} {2}'.format(c.m.subject, c.m.predicate, c.m.object))"
   ]
  },
  {
   "cell_type": "markdown",
   "metadata": {},
   "source": [
    "In the original form, fact assertions are made in the form:\n",
    "\n",
    "```python\n",
    "assert_fact('animal', { 'subject': 'Kermit', 'predicate': 'eats', 'object': 'flies' })\n",
    "```\n",
    "\n",
    "We simplify these as simple text strings of the form `Kermit : eats : flies`, running them against a specified ruleset whose name is passed as an argument to a block cell magic that prefixes the assertion statement list.\n",
    "\n",
    "The cell magic is called as `%%assert_facts -r RULESET`.\n",
    "\n",
    "Enable the magic using:"
   ]
  },
  {
   "cell_type": "code",
   "execution_count": 11,
   "metadata": {},
   "outputs": [],
   "source": [
    "%reload_ext durable_rules_tools"
   ]
  },
  {
   "cell_type": "markdown",
   "metadata": {},
   "source": [
    "Then call the magic to test the assertions against the rulebase:"
   ]
  },
  {
   "cell_type": "code",
   "execution_count": 12,
   "metadata": {},
   "outputs": [
    {
     "name": "stdout",
     "output_type": "stream",
     "text": [
      "Fact: Kermit can fly\n",
      "Fact: Kermit is black\n",
      "Fact: Kermit is bird\n",
      "Fact: Kermit eats worms\n"
     ]
    }
   ],
   "source": [
    "%%assert_facts -r RULESET\n",
    "Kermit : eats : worms"
   ]
  },
  {
   "cell_type": "markdown",
   "metadata": {},
   "source": [
    "Precede a fact with a `#` to ignore it.\n",
    "\n",
    "If you rerun the above cell, no error is thrown. By default, state is cleared when the magic is invoked.\n",
    "\n",
    "If you want to preseve state, you can pass the `--no-reset` flag. Note that this *will* result in an assertion error if you try to reassert a fact previously asserted:"
   ]
  },
  {
   "cell_type": "code",
   "execution_count": 13,
   "metadata": {},
   "outputs": [
    {
     "name": "stderr",
     "output_type": "stream",
     "text": [
      "/Users/tonyhirst/Documents/GitHub/durable_rules_magic/durable_rules_tools/rules_utils.py:74: UserWarning: Assertion error: is ['Kermit', 'eats', 'worms'] already asserted?\n",
      "  warnings.warn(f\"Assertion error: is {_statement} already asserted?\")\n"
     ]
    }
   ],
   "source": [
    "%%assert_facts -r RULESET --no-reset\n",
    "Kermit : eats : worms\n",
    "#Kermit : eats : worms"
   ]
  },
  {
   "cell_type": "markdown",
   "metadata": {},
   "source": [
    "Precede a fact with a `-` to retract rather than assert it:"
   ]
  },
  {
   "cell_type": "code",
   "execution_count": 16,
   "metadata": {},
   "outputs": [
    {
     "name": "stdout",
     "output_type": "stream",
     "text": [
      "Fact: Tweety can fly\n",
      "Fact: Tweety is black\n",
      "Fact: Tweety is bird\n",
      "Fact: Tweety eats worms\n",
      "Fact: Tweety eats worms\n"
     ]
    }
   ],
   "source": [
    "%%assert_facts -r RULESET --no-reset\n",
    "Tweety : eats : worms\n",
    "- Tweety : eats : worms\n",
    "Tweety : eats : worms"
   ]
  },
  {
   "cell_type": "markdown",
   "metadata": {},
   "source": [
    "## Events\n",
    "\n",
    "We can post multiple events using the `%%post_events -r RULESET` magic:"
   ]
  },
  {
   "cell_type": "code",
   "execution_count": 14,
   "metadata": {},
   "outputs": [
    {
     "name": "stdout",
     "output_type": "stream",
     "text": [
      "Fact: Kermit eats flies\n",
      "Fact: Kermit eats flies\n"
     ]
    }
   ],
   "source": [
    "%%post_events -r RULESET\n",
    "Kermit : eats : flies\n",
    "Kermit : eats : flies"
   ]
  },
  {
   "cell_type": "markdown",
   "metadata": {},
   "source": [
    "## Facts and Events\n",
    "\n",
    "We can specify asserted and retracted facts as well as events in the `%%facts_and_events` magic. Prefix each line with an appropriate action character:\n",
    "\n",
    "- use `*` to assert a fact;\n",
    "- use `-` to retract a fact;\n",
    "- use `%` to post an event;"
   ]
  },
  {
   "cell_type": "code",
   "execution_count": 20,
   "metadata": {},
   "outputs": [
    {
     "name": "stdout",
     "output_type": "stream",
     "text": [
      "Fact: Kermit can fly\n",
      "Fact: Kermit is black\n",
      "Fact: Kermit is bird\n",
      "Fact: Kermit eats worms\n"
     ]
    }
   ],
   "source": [
    "%%facts_and_events -r RULESET\n",
    "Kermit : eats : worms\n",
    "- Kermit : eats : worms\n",
    "% Kermit : eats : worms\n",
    "* Kermit : eats : worms"
   ]
  },
  {
   "cell_type": "markdown",
   "metadata": {},
   "source": [
    "## Set accept mutliple args\n",
    "\n",
    "how about letting `Set` be sensitive as to the args it takes?\n",
    "\n",
    "```\n",
    "Set(c, '? : can : fly' )\n",
    "Set(c, (c.first.subject, 'can', 'fly') )\n",
    "```"
   ]
  },
  {
   "cell_type": "code",
   "execution_count": null,
   "metadata": {},
   "outputs": [],
   "source": []
  }
 ],
 "metadata": {
  "kernelspec": {
   "display_name": "Python 3",
   "language": "python",
   "name": "python3"
  },
  "language_info": {
   "codemirror_mode": {
    "name": "ipython",
    "version": 3
   },
   "file_extension": ".py",
   "mimetype": "text/x-python",
   "name": "python",
   "nbconvert_exporter": "python",
   "pygments_lexer": "ipython3",
   "version": "3.7.6"
  }
 },
 "nbformat": 4,
 "nbformat_minor": 4
}
