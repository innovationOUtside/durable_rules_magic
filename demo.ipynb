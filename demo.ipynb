{
 "cells": [
  {
   "cell_type": "markdown",
   "metadata": {},
   "source": [
    "# Durable Rules Magic and Utilities\n",
    "\n",
    "The [durable.rules](https://github.com/jruizgit/rules/) Python package provides a powerful rule based system that allows uses to create rule sets, assert facts and events, and reason on from those assertions according to the rules.\n",
    "\n",
    "For use as a simple demonstrator in an educational context, the syntax and workflow are rather complex.\n",
    "\n",
    "The intention behind the [`durable_rules_tools`](https://github.com/innovationOUtside/durable_rules_magic) package is to provide a range of utilities and simple IPython magic support for demonstrating the use of rule based systems in a Jupyter notebook in simple contexts, specifically ones based around \"subject, predicate, object\" triple style reasoning.\n",
    "\n",
    "The approach taken may not scale for working with complex rulesets, or even in the general case. That said, the simplifications may provide a useful on-ramp for getting started using the package before moving on to using it directly."
   ]
  },
  {
   "cell_type": "markdown",
   "metadata": {},
   "source": [
    "## Defining Rulesets and Assertions\n",
    "\n",
    "The `durable.rules` README provides the following example of a ruleset and a series of assertions:"
   ]
  },
  {
   "cell_type": "code",
   "execution_count": 1,
   "metadata": {},
   "outputs": [
    {
     "name": "stdout",
     "output_type": "stream",
     "text": [
      "Fact: Kermit eats flies\n",
      "Fact: Kermit is green\n",
      "Fact: Kermit is frog\n",
      "Fact: Kermit lives water\n",
      "Fact: Greedy eats flies\n",
      "Fact: Greedy is grey\n",
      "Fact: Greedy is chameleon\n",
      "Fact: Greedy lives land\n",
      "Fact: Tweety is black\n",
      "Fact: Tweety is bird\n",
      "Fact: Tweety eats worms\n"
     ]
    }
   ],
   "source": [
    "from durable.lang import ruleset, when_all, assert_fact, c, m\n",
    "\n",
    "with ruleset('animal'):\n",
    "    @when_all(c.first << (m.predicate == 'eats') & (m.object == 'flies'),\n",
    "              (m.predicate == 'lives') & (m.object == 'water') & (m.subject == c.first.subject))\n",
    "    def frog(c):\n",
    "        c.assert_fact({ 'subject': c.first.subject, 'predicate': 'is', 'object': 'frog' })\n",
    "\n",
    "    @when_all(c.first << (m.predicate == 'eats') & (m.object == 'flies'),\n",
    "              (m.predicate == 'lives') & (m.object == 'land') & (m.subject == c.first.subject))\n",
    "    def chameleon(c):\n",
    "        c.assert_fact({ 'subject': c.first.subject, 'predicate': 'is', 'object': 'chameleon' })\n",
    "\n",
    "    @when_all((m.predicate == 'eats') & (m.object == 'worms'))\n",
    "    def bird(c):\n",
    "        c.assert_fact({ 'subject': c.m.subject, 'predicate': 'is', 'object': 'bird' })\n",
    "\n",
    "    @when_all((m.predicate == 'is') & (m.object == 'frog'))\n",
    "    def green(c):\n",
    "        c.assert_fact({ 'subject': c.m.subject, 'predicate': 'is', 'object': 'green' })\n",
    "\n",
    "    @when_all((m.predicate == 'is') & (m.object == 'chameleon'))\n",
    "    def grey(c):\n",
    "        c.assert_fact({ 'subject': c.m.subject, 'predicate': 'is', 'object': 'grey' })\n",
    "\n",
    "    @when_all((m.predicate == 'is') & (m.object == 'bird'))\n",
    "    def black(c):\n",
    "        c.assert_fact({ 'subject': c.m.subject, 'predicate': 'is', 'object': 'black' })\n",
    "\n",
    "    @when_all(+m.subject)\n",
    "    def output(c):\n",
    "        print('Fact: {0} {1} {2}'.format(c.m.subject, c.m.predicate, c.m.object))\n",
    "\n",
    "\n",
    "assert_fact('animal', { 'subject': 'Kermit', 'predicate': 'eats', 'object': 'flies' })\n",
    "assert_fact('animal', { 'subject': 'Kermit', 'predicate': 'lives', 'object': 'water' })\n",
    "assert_fact('animal', { 'subject': 'Greedy', 'predicate': 'eats', 'object': 'flies' })\n",
    "assert_fact('animal', { 'subject': 'Greedy', 'predicate': 'lives', 'object': 'land' })\n",
    "assert_fact('animal', { 'subject': 'Tweety', 'predicate': 'eats', 'object': 'worms' });  "
   ]
  },
  {
   "cell_type": "markdown",
   "metadata": {},
   "source": [
    "The rule syntax is visually complex, with decorators, logical tests and `dict` definitions including large amounts of boilerplate text.\n",
    "\n",
    "If you duplicate an assertion, an error will be raised:"
   ]
  },
  {
   "cell_type": "code",
   "execution_count": 2,
   "metadata": {},
   "outputs": [
    {
     "ename": "MessageObservedException",
     "evalue": "{'subject': 'Tweety', 'predicate': 'eats', 'object': 'worms'}",
     "output_type": "error",
     "traceback": [
      "\u001b[0;31m---------------------------------------------------------------------------\u001b[0m",
      "\u001b[0;31mMessageObservedException\u001b[0m                  Traceback (most recent call last)",
      "\u001b[0;32m<ipython-input-2-3e2f3f512a9a>\u001b[0m in \u001b[0;36m<module>\u001b[0;34m\u001b[0m\n\u001b[0;32m----> 1\u001b[0;31m \u001b[0massert_fact\u001b[0m\u001b[0;34m(\u001b[0m\u001b[0;34m'animal'\u001b[0m\u001b[0;34m,\u001b[0m \u001b[0;34m{\u001b[0m \u001b[0;34m'subject'\u001b[0m\u001b[0;34m:\u001b[0m \u001b[0;34m'Tweety'\u001b[0m\u001b[0;34m,\u001b[0m \u001b[0;34m'predicate'\u001b[0m\u001b[0;34m:\u001b[0m \u001b[0;34m'eats'\u001b[0m\u001b[0;34m,\u001b[0m \u001b[0;34m'object'\u001b[0m\u001b[0;34m:\u001b[0m \u001b[0;34m'worms'\u001b[0m \u001b[0;34m}\u001b[0m\u001b[0;34m)\u001b[0m\u001b[0;34m;\u001b[0m\u001b[0;34m\u001b[0m\u001b[0;34m\u001b[0m\u001b[0m\n\u001b[0m",
      "\u001b[0;32m/usr/local/lib/python3.7/site-packages/durable/lang.py\u001b[0m in \u001b[0;36massert_fact\u001b[0;34m(ruleset_name, fact, complete)\u001b[0m\n\u001b[1;32m    670\u001b[0m \u001b[0;34m\u001b[0m\u001b[0m\n\u001b[1;32m    671\u001b[0m \u001b[0;32mdef\u001b[0m \u001b[0massert_fact\u001b[0m\u001b[0;34m(\u001b[0m\u001b[0mruleset_name\u001b[0m\u001b[0;34m,\u001b[0m \u001b[0mfact\u001b[0m\u001b[0;34m,\u001b[0m \u001b[0mcomplete\u001b[0m \u001b[0;34m=\u001b[0m \u001b[0;32mNone\u001b[0m\u001b[0;34m)\u001b[0m\u001b[0;34m:\u001b[0m\u001b[0;34m\u001b[0m\u001b[0;34m\u001b[0m\u001b[0m\n\u001b[0;32m--> 672\u001b[0;31m     \u001b[0;32mreturn\u001b[0m \u001b[0mget_host\u001b[0m\u001b[0;34m(\u001b[0m\u001b[0;34m)\u001b[0m\u001b[0;34m.\u001b[0m\u001b[0massert_fact\u001b[0m\u001b[0;34m(\u001b[0m\u001b[0mruleset_name\u001b[0m\u001b[0;34m,\u001b[0m \u001b[0mfact\u001b[0m\u001b[0;34m,\u001b[0m \u001b[0mcomplete\u001b[0m\u001b[0;34m)\u001b[0m\u001b[0;34m\u001b[0m\u001b[0;34m\u001b[0m\u001b[0m\n\u001b[0m\u001b[1;32m    673\u001b[0m \u001b[0;34m\u001b[0m\u001b[0m\n\u001b[1;32m    674\u001b[0m \u001b[0;32mdef\u001b[0m \u001b[0massert_facts\u001b[0m\u001b[0;34m(\u001b[0m\u001b[0mruleset_name\u001b[0m\u001b[0;34m,\u001b[0m \u001b[0mfacts\u001b[0m\u001b[0;34m,\u001b[0m \u001b[0mcomplete\u001b[0m \u001b[0;34m=\u001b[0m \u001b[0;32mNone\u001b[0m\u001b[0;34m)\u001b[0m\u001b[0;34m:\u001b[0m\u001b[0;34m\u001b[0m\u001b[0;34m\u001b[0m\u001b[0m\n",
      "\u001b[0;32m/usr/local/lib/python3.7/site-packages/durable/engine.py\u001b[0m in \u001b[0;36massert_fact\u001b[0;34m(self, ruleset_name, fact, complete)\u001b[0m\n\u001b[1;32m    795\u001b[0m \u001b[0;34m\u001b[0m\u001b[0m\n\u001b[1;32m    796\u001b[0m         \u001b[0mrules\u001b[0m \u001b[0;34m=\u001b[0m \u001b[0mself\u001b[0m\u001b[0;34m.\u001b[0m\u001b[0mget_ruleset\u001b[0m\u001b[0;34m(\u001b[0m\u001b[0mruleset_name\u001b[0m\u001b[0;34m)\u001b[0m\u001b[0;34m\u001b[0m\u001b[0;34m\u001b[0m\u001b[0m\n\u001b[0;32m--> 797\u001b[0;31m         \u001b[0;32mreturn\u001b[0m \u001b[0mself\u001b[0m\u001b[0;34m.\u001b[0m\u001b[0m_handle_function\u001b[0m\u001b[0;34m(\u001b[0m\u001b[0mrules\u001b[0m\u001b[0;34m,\u001b[0m \u001b[0mrules\u001b[0m\u001b[0;34m.\u001b[0m\u001b[0massert_fact\u001b[0m\u001b[0;34m,\u001b[0m \u001b[0mfact\u001b[0m\u001b[0;34m,\u001b[0m \u001b[0mcomplete\u001b[0m\u001b[0;34m)\u001b[0m\u001b[0;34m\u001b[0m\u001b[0;34m\u001b[0m\u001b[0m\n\u001b[0m\u001b[1;32m    798\u001b[0m \u001b[0;34m\u001b[0m\u001b[0m\n\u001b[1;32m    799\u001b[0m     \u001b[0;32mdef\u001b[0m \u001b[0massert_facts\u001b[0m\u001b[0;34m(\u001b[0m\u001b[0mself\u001b[0m\u001b[0;34m,\u001b[0m \u001b[0mruleset_name\u001b[0m\u001b[0;34m,\u001b[0m \u001b[0mfacts\u001b[0m\u001b[0;34m,\u001b[0m \u001b[0mcomplete\u001b[0m \u001b[0;34m=\u001b[0m \u001b[0;32mNone\u001b[0m\u001b[0;34m)\u001b[0m\u001b[0;34m:\u001b[0m\u001b[0;34m\u001b[0m\u001b[0;34m\u001b[0m\u001b[0m\n",
      "\u001b[0;32m/usr/local/lib/python3.7/site-packages/durable/engine.py\u001b[0m in \u001b[0;36m_handle_function\u001b[0;34m(self, rules, func, args, complete)\u001b[0m\n\u001b[1;32m    768\u001b[0m \u001b[0;34m\u001b[0m\u001b[0m\n\u001b[1;32m    769\u001b[0m         \u001b[0;32mif\u001b[0m \u001b[0;32mnot\u001b[0m \u001b[0mcomplete\u001b[0m\u001b[0;34m:\u001b[0m\u001b[0;34m\u001b[0m\u001b[0;34m\u001b[0m\u001b[0m\n\u001b[0;32m--> 770\u001b[0;31m             \u001b[0mrules\u001b[0m\u001b[0;34m.\u001b[0m\u001b[0mdo_actions\u001b[0m\u001b[0;34m(\u001b[0m\u001b[0mfunc\u001b[0m\u001b[0;34m(\u001b[0m\u001b[0margs\u001b[0m\u001b[0;34m)\u001b[0m\u001b[0;34m,\u001b[0m \u001b[0mcallback\u001b[0m\u001b[0;34m)\u001b[0m\u001b[0;34m\u001b[0m\u001b[0;34m\u001b[0m\u001b[0m\n\u001b[0m\u001b[1;32m    771\u001b[0m             \u001b[0;32mif\u001b[0m \u001b[0merror\u001b[0m\u001b[0;34m[\u001b[0m\u001b[0;36m0\u001b[0m\u001b[0;34m]\u001b[0m\u001b[0;34m:\u001b[0m\u001b[0;34m\u001b[0m\u001b[0;34m\u001b[0m\u001b[0m\n\u001b[1;32m    772\u001b[0m                 \u001b[0;32mraise\u001b[0m \u001b[0merror\u001b[0m\u001b[0;34m[\u001b[0m\u001b[0;36m0\u001b[0m\u001b[0;34m]\u001b[0m\u001b[0;34m\u001b[0m\u001b[0;34m\u001b[0m\u001b[0m\n",
      "\u001b[0;32m/usr/local/lib/python3.7/site-packages/durable/engine.py\u001b[0m in \u001b[0;36massert_fact\u001b[0;34m(self, fact)\u001b[0m\n\u001b[1;32m    333\u001b[0m \u001b[0;34m\u001b[0m\u001b[0m\n\u001b[1;32m    334\u001b[0m     \u001b[0;32mdef\u001b[0m \u001b[0massert_fact\u001b[0m\u001b[0;34m(\u001b[0m\u001b[0mself\u001b[0m\u001b[0;34m,\u001b[0m \u001b[0mfact\u001b[0m\u001b[0;34m)\u001b[0m\u001b[0;34m:\u001b[0m\u001b[0;34m\u001b[0m\u001b[0;34m\u001b[0m\u001b[0m\n\u001b[0;32m--> 335\u001b[0;31m         \u001b[0;32mreturn\u001b[0m \u001b[0mself\u001b[0m\u001b[0;34m.\u001b[0m\u001b[0m_handle_result\u001b[0m\u001b[0;34m(\u001b[0m\u001b[0mdurable_rules_engine\u001b[0m\u001b[0;34m.\u001b[0m\u001b[0massert_fact\u001b[0m\u001b[0;34m(\u001b[0m\u001b[0mself\u001b[0m\u001b[0;34m.\u001b[0m\u001b[0m_handle\u001b[0m\u001b[0;34m,\u001b[0m \u001b[0mjson\u001b[0m\u001b[0;34m.\u001b[0m\u001b[0mdumps\u001b[0m\u001b[0;34m(\u001b[0m\u001b[0mfact\u001b[0m\u001b[0;34m,\u001b[0m \u001b[0mensure_ascii\u001b[0m\u001b[0;34m=\u001b[0m\u001b[0;32mFalse\u001b[0m\u001b[0;34m)\u001b[0m\u001b[0;34m)\u001b[0m\u001b[0;34m,\u001b[0m \u001b[0mfact\u001b[0m\u001b[0;34m)\u001b[0m\u001b[0;34m\u001b[0m\u001b[0;34m\u001b[0m\u001b[0m\n\u001b[0m\u001b[1;32m    336\u001b[0m \u001b[0;34m\u001b[0m\u001b[0m\n\u001b[1;32m    337\u001b[0m     \u001b[0;32mdef\u001b[0m \u001b[0massert_facts\u001b[0m\u001b[0;34m(\u001b[0m\u001b[0mself\u001b[0m\u001b[0;34m,\u001b[0m \u001b[0mfacts\u001b[0m\u001b[0;34m)\u001b[0m\u001b[0;34m:\u001b[0m\u001b[0;34m\u001b[0m\u001b[0;34m\u001b[0m\u001b[0m\n",
      "\u001b[0;32m/usr/local/lib/python3.7/site-packages/durable/engine.py\u001b[0m in \u001b[0;36m_handle_result\u001b[0;34m(self, result, message)\u001b[0m\n\u001b[1;32m    320\u001b[0m             \u001b[0;32mraise\u001b[0m \u001b[0mMessageNotHandledException\u001b[0m\u001b[0;34m(\u001b[0m\u001b[0mmessage\u001b[0m\u001b[0;34m)\u001b[0m\u001b[0;34m\u001b[0m\u001b[0;34m\u001b[0m\u001b[0m\n\u001b[1;32m    321\u001b[0m         \u001b[0;32melif\u001b[0m \u001b[0mresult\u001b[0m\u001b[0;34m[\u001b[0m\u001b[0;36m0\u001b[0m\u001b[0;34m]\u001b[0m \u001b[0;34m==\u001b[0m \u001b[0;36m2\u001b[0m\u001b[0;34m:\u001b[0m\u001b[0;34m\u001b[0m\u001b[0;34m\u001b[0m\u001b[0m\n\u001b[0;32m--> 322\u001b[0;31m             \u001b[0;32mraise\u001b[0m \u001b[0mMessageObservedException\u001b[0m\u001b[0;34m(\u001b[0m\u001b[0mmessage\u001b[0m\u001b[0;34m)\u001b[0m\u001b[0;34m\u001b[0m\u001b[0;34m\u001b[0m\u001b[0m\n\u001b[0m\u001b[1;32m    323\u001b[0m         \u001b[0;32melif\u001b[0m \u001b[0mresult\u001b[0m\u001b[0;34m[\u001b[0m\u001b[0;36m0\u001b[0m\u001b[0;34m]\u001b[0m \u001b[0;34m==\u001b[0m \u001b[0;36m3\u001b[0m\u001b[0;34m:\u001b[0m\u001b[0;34m\u001b[0m\u001b[0;34m\u001b[0m\u001b[0m\n\u001b[1;32m    324\u001b[0m             \u001b[0;32mreturn\u001b[0m \u001b[0;36m0\u001b[0m\u001b[0;34m\u001b[0m\u001b[0;34m\u001b[0m\u001b[0m\n",
      "\u001b[0;31mMessageObservedException\u001b[0m: {'subject': 'Tweety', 'predicate': 'eats', 'object': 'worms'}"
     ]
    }
   ],
   "source": [
    "assert_fact('animal', { 'subject': 'Tweety', 'predicate': 'eats', 'object': 'worms' });  "
   ]
  },
  {
   "cell_type": "markdown",
   "metadata": {},
   "source": [
    "(Facts that are asserted then retracted are possible in the form of event assertions.)\n",
    "\n",
    "If you rerun the ruleset definition cell, a different sort of error will be raised, in the form of an `Exception: Ruleset with name animal already registered`. Within a Pyhton environment, only a single instance of a ruleset with a particular name is allowed, although many rulesets with unique names are supported."
   ]
  },
  {
   "cell_type": "markdown",
   "metadata": {},
   "source": [
    "### Simplifying Ruleset Definitions\n",
    "\n",
    "Several helper functions are provided in `durable_rules_tools.rules_utils` for defining rulesets in a robust way (in educational settings, we often need to be as defensive as possible)."
   ]
  },
  {
   "cell_type": "code",
   "execution_count": 5,
   "metadata": {},
   "outputs": [],
   "source": [
    "from durable_rules_tools.rules_utils import new_ruleset, spo, subject_"
   ]
  },
  {
   "cell_type": "markdown",
   "metadata": {},
   "source": [
    "The `new_ruleset()` function creates a new, unique ruleset name that significantly minimiseds ruleset name. Making it easy to create new, unique names simplifies the use of such names.\n",
    "\n",
    "To simplify tests against particular predicate and object settings, such as  `(m.predicate == 'eats') & (m.object == 'worms')`, we can instead test against `subject_('eats', 'worms')` (corresponding `object_(subj, pred)` and `predicate_(subj, obj)` tests are also defined)."
   ]
  },
  {
   "cell_type": "markdown",
   "metadata": {},
   "source": [
    "We can also define simplifications on an *ad hoc* basis. For example, if we want to repeatedly test for a particular object value and that it described using an `is` predicate:"
   ]
  },
  {
   "cell_type": "code",
   "execution_count": 3,
   "metadata": {},
   "outputs": [],
   "source": [
    "def _when_is(obj):\n",
    "    \"\"\"Test a specified object value is set against an 'is' predicate.\"\"\"\n",
    "    return (m.predicate == 'is') & (m.object == obj)\n",
    "\n",
    "#That could be simplified further as: return subject_('is', obj)"
   ]
  },
  {
   "cell_type": "markdown",
   "metadata": {},
   "source": [
    "When asserting facts, the function `spo(subj, obj, pred)` allows us to replace statements of the form:\n",
    "\n",
    "```python\n",
    "c.assert_fact({ 'subject': c.m.subject, 'predicate': 'is', 'object': 'bird' })\n",
    "```\n",
    "\n",
    "with statements of the form:\n",
    "\n",
    "```python\n",
    "c.assert_fact(spo(c, 'is', 'bird))\n",
    "```\n",
    "\n",
    "where position is used to assume `c.m.subject`, `c.m.predicate` and `c.m.object` values.\n",
    "\n",
    "The previous ruleset now becomes:"
   ]
  },
  {
   "cell_type": "code",
   "execution_count": 6,
   "metadata": {},
   "outputs": [],
   "source": [
    "RULESET = new_ruleset()\n",
    "with ruleset(RULESET):\n",
    "    @when_all(c.first << subject_('eats', 'flies'),\n",
    "              subject_('lives', 'water') & (m.subject == c.first.subject))\n",
    "    def frog(c):\n",
    "        c.assert_fact(spo(c.first.subject, 'is', 'frog'))\n",
    "\n",
    "    @when_all(c.first << subject_('eats', 'flies'),\n",
    "              subject_('lives', 'land') & (m.subject == c.first.subject))\n",
    "    def chameleon(c):\n",
    "        c.assert_fact(spo(c.first.subject, 'is', 'chameleon'))\n",
    "\n",
    "    @when_all(subject_('eats', 'worms'))\n",
    "    def bird(c):\n",
    "        c.assert_fact(spo(c, 'is', 'bird'))\n",
    "\n",
    "    @when_all(subject_('is', 'frog'))\n",
    "    def green(c):\n",
    "        c.assert_fact(spo(c, 'is', 'green'))\n",
    "\n",
    "    @when_all(subject_('is', 'chameleon'))\n",
    "    def grey(c):\n",
    "        c.assert_fact(spo(c, 'is', 'grey'))\n",
    "\n",
    "    @when_all(subject_('is', 'bird'))\n",
    "    def black(c):\n",
    "        c.assert_fact(spo(c, 'is', 'black'))\n",
    "\n",
    "    @when_all(+m.subject)\n",
    "    def output(c):\n",
    "        print('Fact: {0} {1} {2}'.format(c.m.subject, c.m.predicate, c.m.object))"
   ]
  },
  {
   "cell_type": "markdown",
   "metadata": {},
   "source": [
    "In the original form, fact assertions are made in the form:\n",
    "\n",
    "```python\n",
    "assert_fact('animal', { 'subject': 'Kermit', 'predicate': 'eats', 'object': 'flies' })\n",
    "```\n",
    "\n",
    "We simplify these as simple text strings of the form `Kermit : eats : flies`, running them against a specified ruleset whose name is passed as an argument to a block cell magic that prefixes the assertion statement list.\n",
    "\n",
    "The cell magic is called as `%%assert_facts -r RULESET`.\n",
    "\n",
    "Enable the magic using:"
   ]
  },
  {
   "cell_type": "code",
   "execution_count": 8,
   "metadata": {},
   "outputs": [],
   "source": [
    "%reload_ext durable_rules_tools"
   ]
  },
  {
   "cell_type": "markdown",
   "metadata": {},
   "source": [
    "Then call the magic to test the assertions against the rulebase:"
   ]
  },
  {
   "cell_type": "code",
   "execution_count": 9,
   "metadata": {},
   "outputs": [
    {
     "name": "stdout",
     "output_type": "stream",
     "text": [
      "Fact: Kermit is black\n",
      "Fact: Kermit is bird\n",
      "Fact: Kermit eats worms\n"
     ]
    }
   ],
   "source": [
    "%%assert_facts -r RULESET\n",
    "Kermit : eats : worms"
   ]
  },
  {
   "cell_type": "markdown",
   "metadata": {},
   "source": [
    "If you rerun the above cell, no error is thrown. By default, state is cleared when the magic is invoked.\n",
    "\n",
    "If you want to preseve state, you can pass the `--no-reset` flag. Note that this *will* result in an assertion error if you try to reassert a fact previously asserted:"
   ]
  },
  {
   "cell_type": "code",
   "execution_count": 10,
   "metadata": {},
   "outputs": [
    {
     "name": "stderr",
     "output_type": "stream",
     "text": [
      "/usr/local/lib/python3.7/site-packages/durable_rules_tools/rules_utils.py:61: UserWarning: Assertion error: is ['Kermit', 'eats', 'worms'] already asserted?\n",
      "  warnings.warn(f\"Assertion error: is {_statement} already asserted?\")\n"
     ]
    }
   ],
   "source": [
    "%%assert_facts -r RULESET --no-reset\n",
    "Kermit : eats : worms"
   ]
  }
 ],
 "metadata": {
  "kernelspec": {
   "display_name": "Python 3",
   "language": "python",
   "name": "python3"
  },
  "language_info": {
   "codemirror_mode": {
    "name": "ipython",
    "version": 3
   },
   "file_extension": ".py",
   "mimetype": "text/x-python",
   "name": "python",
   "nbconvert_exporter": "python",
   "pygments_lexer": "ipython3",
   "version": "3.7.6"
  }
 },
 "nbformat": 4,
 "nbformat_minor": 4
}
